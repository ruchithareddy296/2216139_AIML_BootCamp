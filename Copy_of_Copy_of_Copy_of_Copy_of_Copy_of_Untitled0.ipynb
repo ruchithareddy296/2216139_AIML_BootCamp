{
  "nbformat": 4,
  "nbformat_minor": 0,
  "metadata": {
    "colab": {
      "name": "Copy of Copy of Copy of Copy of Copy of Untitled0.ipynb",
      "provenance": [],
      "authorship_tag": "ABX9TyNhUwEYf2LQNnnE3Y0fOCfr",
      "include_colab_link": true
    },
    "kernelspec": {
      "name": "python3",
      "display_name": "Python 3"
    },
    "language_info": {
      "name": "python"
    }
  },
  "cells": [
    {
      "cell_type": "markdown",
      "metadata": {
        "id": "view-in-github",
        "colab_type": "text"
      },
      "source": [
        "<a href=\"https://colab.research.google.com/github/ruchithareddy296/2216139_AIML_BootCamp/blob/main/Copy_of_Copy_of_Copy_of_Copy_of_Copy_of_Untitled0.ipynb\" target=\"_parent\"><img src=\"https://colab.research.google.com/assets/colab-badge.svg\" alt=\"Open In Colab\"/></a>"
      ]
    },
    {
      "cell_type": "code",
      "execution_count": null,
      "metadata": {
        "colab": {
          "base_uri": "https://localhost:8080/"
        },
        "id": "n56dBUUIhWu1",
        "outputId": "d99c46ee-43f2-4b8b-e346-dc071ef7451b"
      },
      "outputs": [
        {
          "output_type": "stream",
          "name": "stdout",
          "text": [
            "WELCOME TO GOOGLE COLAB\n",
            "welcome to google colab\n",
            "WELCOME TO GOOGLE COLAB\n",
            "Welcome To Google Colab\n",
            "Welcome to google colab\n",
            "welcome to google colab\n",
            "welcome to google colab\n",
            "welcome to google colab\n"
          ]
        }
      ],
      "source": [
        "#1. Implement the methods of String with examples.\n",
        "str=\"welcome to google colab\"\n",
        "print(str.upper())\n",
        "print(str.lower())\n",
        "print(str.swapcase())\n",
        "print(str.title())\n",
        "print(str.capitalize())\n",
        "print(str.strip())\n",
        "print(str.lstrip())\n",
        "print(str.rstrip())"
      ]
    },
    {
      "cell_type": "code",
      "source": [
        "#2. Implement the methods of List with examples.\n",
        "list=[1,2,3,4]\n",
        "list.append(5)\n",
        "print(list)\n",
        "list.extend([6,7,8,9])\n",
        "print(list)\n",
        "list.insert(1,2.1)\n",
        "print(list)\n",
        "del list[3]\n",
        "print(list)\n",
        "del list[0:3]\n",
        "print(list)\n",
        "list.remove(4)\n",
        "print(list)\n",
        "list.pop()\n",
        "print(list)\n",
        "list.clear()\n",
        "print(list)\n",
        "list1=[4,2,7,2,3,2,1]\n",
        "print(list1.count(2))\n",
        "list1.reverse()\n",
        "print(list1)\n",
        "list1.sort()\n",
        "print(list1)\n"
      ],
      "metadata": {
        "colab": {
          "base_uri": "https://localhost:8080/"
        },
        "id": "Z0FTvx2biqZz",
        "outputId": "6e06a016-b041-4b3f-9f96-74e8bf485a77"
      },
      "execution_count": null,
      "outputs": [
        {
          "output_type": "stream",
          "name": "stdout",
          "text": [
            "[1, 2, 3, 4, 5]\n",
            "[1, 2, 3, 4, 5, 6, 7, 8, 9]\n",
            "[1, 2.1, 2, 3, 4, 5, 6, 7, 8, 9]\n",
            "[1, 2.1, 2, 4, 5, 6, 7, 8, 9]\n",
            "[4, 5, 6, 7, 8, 9]\n",
            "[5, 6, 7, 8, 9]\n",
            "[5, 6, 7, 8]\n",
            "[]\n",
            "3\n",
            "[1, 2, 3, 2, 7, 2, 4]\n",
            "[1, 2, 2, 2, 3, 4, 7]\n"
          ]
        }
      ]
    },
    {
      "cell_type": "code",
      "source": [
        "#3. Implement the methods of Tuple with examples.\n",
        "tuple=(1,2,3)\n",
        "tuple1=(\"hello\",2.0,4)\n",
        "tuple2=(\"hello\",\"thanks\",\"bye\")\n",
        "n_tuple=(\"hello\",(1,2,3),[\"hello\",2.0,4])\n",
        "\n",
        "print(tuple.count(2))\n",
        "print(tuple.index(1))\n",
        "print(max(tuple))\n",
        "print(min(tuple))\n",
        "print(len(tuple))"
      ],
      "metadata": {
        "colab": {
          "base_uri": "https://localhost:8080/"
        },
        "id": "VcOj_NI8logG",
        "outputId": "0f813425-2081-43a8-ad06-2329fc93f9ae"
      },
      "execution_count": null,
      "outputs": [
        {
          "output_type": "stream",
          "name": "stdout",
          "text": [
            "1\n",
            "0\n",
            "3\n",
            "1\n",
            "3\n"
          ]
        }
      ]
    },
    {
      "cell_type": "code",
      "source": [
        "#4. Implement the methods of Dictionary with examples.\n",
        "dict={'name':'ruchitha','phno':4572575451,'add':'wgl'}\n",
        "print(dict['add'])\n",
        "print(dict.keys())\n",
        "print(dict.values())\n",
        "print(dict.get('name'))\n"
      ],
      "metadata": {
        "colab": {
          "base_uri": "https://localhost:8080/"
        },
        "id": "YGcaLXSqnW32",
        "outputId": "588d437c-9010-4fba-e477-ebddeb8c71ff"
      },
      "execution_count": null,
      "outputs": [
        {
          "output_type": "stream",
          "name": "stdout",
          "text": [
            "wgl\n",
            "dict_keys(['name', 'phno', 'add'])\n",
            "dict_values(['ruchitha', 4572575451, 'wgl'])\n",
            "ruchitha\n"
          ]
        }
      ]
    },
    {
      "cell_type": "code",
      "source": [
        "#5. Implement the methods of Set with examples.\n",
        "set1={1,2,3}\n",
        "set2={1,2,3,\"hai\",(1,2)}\n",
        "\n",
        "set1.add(4)\n",
        "print(set1)\n",
        "set1.update([4,5,6])\n",
        "print(set1)\n",
        "set1.discard(5)\n",
        "print(set1)\n",
        "set1.remove(6)\n",
        "print(set1)\n",
        "\n"
      ],
      "metadata": {
        "colab": {
          "base_uri": "https://localhost:8080/"
        },
        "id": "zRz6Xv-MoY0H",
        "outputId": "3bae8cc6-05d3-41fd-f2a8-6cede8e34f8e"
      },
      "execution_count": null,
      "outputs": [
        {
          "output_type": "stream",
          "name": "stdout",
          "text": [
            "{1, 2, 3, 4}\n",
            "{1, 2, 3, 4, 5, 6}\n",
            "{1, 2, 3, 4, 6}\n",
            "{1, 2, 3, 4}\n"
          ]
        }
      ]
    },
    {
      "cell_type": "code",
      "source": [
        "#6. Write a python program to convert Decimal to Binary, Octal and Hexadecimal with direct method.\n",
        "decimal = 200\n",
        "\n",
        "print(\"The decimal value of\", decimal, \"is:\")\n",
        "print(bin(decimal), \"in binary.\")\n",
        "print(oct(decimal), \"in octal.\")\n",
        "print(hex(decimal), \"in hexadecimal.\")"
      ],
      "metadata": {
        "colab": {
          "base_uri": "https://localhost:8080/"
        },
        "id": "Eq3wxMGapy4I",
        "outputId": "fd7c3b6c-0ea6-46a5-d30e-9eef71097bdf"
      },
      "execution_count": null,
      "outputs": [
        {
          "output_type": "stream",
          "name": "stdout",
          "text": [
            "The decimal value of 200 is:\n",
            "0b11001000 in binary.\n",
            "0o310 in octal.\n",
            "0xc8 in hexadecimal.\n"
          ]
        }
      ]
    },
    {
      "cell_type": "code",
      "source": [
        "#7. Implement Arithmetic operators with examples.\n",
        "a=3\n",
        "b=5\n",
        "\n",
        "print(\"arithmetic operations\")\n",
        "print(a+b)\n",
        "print(a-b)\n",
        "print(a*b)\n",
        "print(a/b)\n",
        "print(a//b)\n",
        "print(a%b)\n",
        "print(a**b)"
      ],
      "metadata": {
        "colab": {
          "base_uri": "https://localhost:8080/"
        },
        "id": "y2CN0lQcrEbm",
        "outputId": "d46642e9-0865-4884-c623-511811d0fed7"
      },
      "execution_count": null,
      "outputs": [
        {
          "output_type": "stream",
          "name": "stdout",
          "text": [
            "arithmetic operations\n",
            "8\n",
            "-2\n",
            "15\n",
            "0.6\n",
            "0\n",
            "3\n",
            "243\n"
          ]
        }
      ]
    },
    {
      "cell_type": "code",
      "source": [
        "#8. Implement Assignment operators with examples.\n",
        "print(\"assignment operations\")\n",
        "a=6\n",
        "b=4\n",
        "\n",
        "c=a+b\n",
        "print(c)\n",
        "c+=a\n",
        "print(c)\n",
        "c-=a\n",
        "print(c)\n",
        "c*=a\n",
        "print(c)\n",
        "c/=a\n",
        "print(c)\n",
        "c%=a\n",
        "print(c)\n",
        "c**=a\n",
        "print(c)"
      ],
      "metadata": {
        "colab": {
          "base_uri": "https://localhost:8080/"
        },
        "id": "yPkwP9thsP8d",
        "outputId": "3e50b29c-0be3-4b8f-c696-6a3360cec2a5"
      },
      "execution_count": null,
      "outputs": [
        {
          "output_type": "stream",
          "name": "stdout",
          "text": [
            "assignment operations\n",
            "10\n",
            "16\n",
            "10\n",
            "60\n",
            "10.0\n",
            "4.0\n",
            "4096.0\n"
          ]
        }
      ]
    },
    {
      "cell_type": "code",
      "source": [
        "#9. Implement Comparison operators with examples.\n",
        "print(\"comparison operations\")\n",
        "print(a==b)\n",
        "print(a!=b)\n",
        "print(a>b)\n",
        "print(a<b)\n",
        "print(a>=b)\n",
        "print(a<=b)"
      ],
      "metadata": {
        "colab": {
          "base_uri": "https://localhost:8080/"
        },
        "id": "GMa0AE8QtiZY",
        "outputId": "8e59b80b-2eac-423b-eede-a94a7774fb98"
      },
      "execution_count": null,
      "outputs": [
        {
          "output_type": "stream",
          "name": "stdout",
          "text": [
            "comparison operations\n",
            "False\n",
            "True\n",
            "False\n",
            "True\n",
            "False\n",
            "True\n"
          ]
        }
      ]
    },
    {
      "cell_type": "code",
      "source": [
        "#10. Implement Logical operators with examples.\n",
        "print(\"logical operations\")\n",
        "x=True\n",
        "y=False\n",
        "print(\"x and y is\",x and y)\n",
        "print(\"x or y is\",x or y)\n",
        "print(\"x not is\",not x)"
      ],
      "metadata": {
        "colab": {
          "base_uri": "https://localhost:8080/"
        },
        "id": "03IOQBPQt6Zc",
        "outputId": "f90b4efc-3811-4e25-e074-280c7dbfc5c1"
      },
      "execution_count": null,
      "outputs": [
        {
          "output_type": "stream",
          "name": "stdout",
          "text": [
            "logical operations\n",
            "x and y is False\n",
            "x or y is True\n",
            "x not is False\n"
          ]
        }
      ]
    },
    {
      "cell_type": "code",
      "source": [
        "#11. Implement Bitwise operators with examples.\n",
        "print(\"bitwise operators\")\n",
        "a=10\n",
        "b=6\n",
        "print(a&b)\n",
        "print(a^b)\n",
        "print(a|b)\n",
        "print(~a)\n",
        "print(a>>2)\n",
        "print(a<<4)"
      ],
      "metadata": {
        "colab": {
          "base_uri": "https://localhost:8080/"
        },
        "id": "jJAlMXPruG1m",
        "outputId": "ebe05682-d675-4ec8-b6ee-8e8a1ada3a30"
      },
      "execution_count": null,
      "outputs": [
        {
          "output_type": "stream",
          "name": "stdout",
          "text": [
            "bitwise operations\n",
            "2\n",
            "12\n",
            "14\n",
            "-11\n",
            "2\n",
            "160\n"
          ]
        }
      ]
    },
    {
      "cell_type": "code",
      "source": [
        "#12. Implement Membership operators with examples.\n",
        "print(\"membership operators\")\n",
        "x=\"Hi ruchitha\"\n",
        "y={4:'a',6:'b'}\n",
        "print('H' in x)\n",
        "print(4 in y)\n",
        "print('a'in y)"
      ],
      "metadata": {
        "colab": {
          "base_uri": "https://localhost:8080/"
        },
        "id": "LxKI18o_uz67",
        "outputId": "c1e07640-1417-4b6d-e33a-3381445f3514"
      },
      "execution_count": null,
      "outputs": [
        {
          "output_type": "stream",
          "name": "stdout",
          "text": [
            "membership operators\n",
            "True\n",
            "True\n",
            "False\n"
          ]
        }
      ]
    },
    {
      "cell_type": "code",
      "source": [
        "#13. Implement Identity operators with examples.\n",
        "print(\"identity operators\")\n",
        "x1=3\n",
        "y1=5\n",
        "x2=\"Hii\"\n",
        "y2=\"Hello\"\n",
        "x3=[1,2,3]\n",
        "y3=[1,2,3,4]\n",
        "print(x1 is not y1)\n",
        "print(x2 is not y2)\n",
        "print(x3 is y3)"
      ],
      "metadata": {
        "colab": {
          "base_uri": "https://localhost:8080/"
        },
        "id": "gPapZb_IvoeZ",
        "outputId": "c0564c4a-1810-41e2-d560-feec471ec599"
      },
      "execution_count": null,
      "outputs": [
        {
          "output_type": "stream",
          "name": "stdout",
          "text": [
            "identity operators\n",
            "True\n",
            "True\n",
            "False\n"
          ]
        }
      ]
    },
    {
      "cell_type": "code",
      "source": [
        "#14. Demonstrate Negative indexing for List and apply slicing.\n",
        "list=[1,2,3,14,56,12,16,27]\n",
        "print(list[::-1])\n",
        "print(list[:4:-1])\n",
        "print(list[0:5])\n",
        "print(list[1:4:1])"
      ],
      "metadata": {
        "colab": {
          "base_uri": "https://localhost:8080/"
        },
        "id": "tgfRobDFwZ85",
        "outputId": "69ba381f-942f-4cb1-e079-4f1bdbcb34eb"
      },
      "execution_count": null,
      "outputs": [
        {
          "output_type": "stream",
          "name": "stdout",
          "text": [
            "[27, 16, 12, 56, 14, 3, 2, 1]\n",
            "[27, 16, 12]\n",
            "[1, 2, 3, 14, 56]\n",
            "[2, 3, 14]\n"
          ]
        }
      ]
    },
    {
      "cell_type": "code",
      "source": [
        "#15. Predict the output for the given code snippet and justify the result.\n",
        "print('A series of characters designated as one object known as a string'[::-1][4::3])\n",
        "print(\"----------\")\n",
        "print('Welcome to python training program'[3:10][::-1])\n",
        "# [::-1]  this means it reverse the whole string\n",
        "#[3:10] this means slice operator it starts from 3rd index and stops at 10th index and then it will reverse the string.\n",
        "#[4::3] this means slice operator it starts from 4th index and stops unitl the last word of string and also it takes the step of 3."
      ],
      "metadata": {
        "colab": {
          "base_uri": "https://localhost:8080/"
        },
        "id": "8wjWyMS9xSyF",
        "outputId": "ef0c5aef-b574-4e16-e913-02994e842a69"
      },
      "execution_count": null,
      "outputs": [
        {
          "output_type": "stream",
          "name": "stdout",
          "text": [
            "taawkcbe  tgestrcoeeA\n",
            "----------\n",
            "ot emoc\n"
          ]
        }
      ]
    },
    {
      "cell_type": "code",
      "source": [
        "#16. Write a python code to get desired output.\n",
        "p_phrase=\"was it a car or a cat I saw\"\n",
        "str=p_phrase.upper()\n",
        "print(str[:3:]+\" \"+str[4:5:]+\" \"+str[5:6:]+str[7:8:]+str[9:10:]+\" \"+str[10:11:]+\" \"+str[11:12:]+str[13:14]+\" \"+str[14:15]+str[16:17:]+str[18:19:]+\" \"+str[19:20:]+\" \"+str[20:21:]+str[22:23:]+\" \"+str[24::])"
      ],
      "metadata": {
        "colab": {
          "base_uri": "https://localhost:8080/"
        },
        "id": "8sDzAZlTy7yH",
        "outputId": "001a9d72-1534-4875-df6c-0382c6637e2a"
      },
      "execution_count": null,
      "outputs": [
        {
          "output_type": "stream",
          "name": "stdout",
          "text": [
            "WAS I TAC A RO RAC A TI SAW\n"
          ]
        }
      ]
    },
    {
      "cell_type": "code",
      "source": [
        "#17. You are required to generate a word similar to ZOO, X and Y that denote the number \n",
        "#of Zs and Os respectively. The generated word similar to ZOO where Y= 2 * X. \n",
        "x=int(input(\"length of x\"))\n",
        "a=('Z'*x)\n",
        "y=len(a)\n",
        "z=2*y\n",
        "y=('O'*z)\n",
        "print(a+y)"
      ],
      "metadata": {
        "id": "1XvnGf_qjsGX",
        "colab": {
          "base_uri": "https://localhost:8080/"
        },
        "outputId": "7423dfc3-6f3d-4770-db3b-a90dfff0558b"
      },
      "execution_count": null,
      "outputs": [
        {
          "output_type": "stream",
          "name": "stdout",
          "text": [
            "length of x5\n",
            "ZZZZZOOOOOOOOOO\n"
          ]
        }
      ]
    }
  ]
}