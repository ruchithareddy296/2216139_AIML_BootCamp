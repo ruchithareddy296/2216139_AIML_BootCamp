{
  "nbformat": 4,
  "nbformat_minor": 0,
  "metadata": {
    "colab": {
      "name": "Untitled2.ipynb",
      "provenance": [],
      "authorship_tag": "ABX9TyMN6EITY1NoUWomRf9UzgE3",
      "include_colab_link": true
    },
    "kernelspec": {
      "name": "python3",
      "display_name": "Python 3"
    },
    "language_info": {
      "name": "python"
    }
  },
  "cells": [
    {
      "cell_type": "markdown",
      "metadata": {
        "id": "view-in-github",
        "colab_type": "text"
      },
      "source": [
        "<a href=\"https://colab.research.google.com/github/ruchithareddy296/2216139_AIML_BootCamp/blob/main/Untitled2.ipynb\" target=\"_parent\"><img src=\"https://colab.research.google.com/assets/colab-badge.svg\" alt=\"Open In Colab\"/></a>"
      ]
    },
    {
      "cell_type": "code",
      "execution_count": 1,
      "metadata": {
        "colab": {
          "base_uri": "https://localhost:8080/"
        },
        "id": "80x_01MJWZ6g",
        "outputId": "f5d1c66e-c5de-492a-ad0b-90cee8917c49"
      },
      "outputs": [
        {
          "output_type": "stream",
          "name": "stdout",
          "text": [
            "true\n",
            "100\n"
          ]
        }
      ],
      "source": [
        "#if statement\n",
        "var=100\n",
        "if var>0:\n",
        "  print(\"true\")\n",
        "  print(var)\n",
        "var1=0\n",
        "if var1>0:\n",
        "  print(\"True\")\n",
        "  print(var1)"
      ]
    },
    {
      "cell_type": "code",
      "source": [
        "#if...else statement\n",
        "var2=-1\n",
        "if var2>0:\n",
        "  print(\"True\")\n",
        "  print(var2)\n",
        "else:\n",
        "  print(\"False\")\n",
        "  print(var2)"
      ],
      "metadata": {
        "colab": {
          "base_uri": "https://localhost:8080/"
        },
        "id": "PsvqEWg3WnFb",
        "outputId": "cb85e0c3-951c-4505-f7a7-4bbe560fb5eb"
      },
      "execution_count": 2,
      "outputs": [
        {
          "output_type": "stream",
          "name": "stdout",
          "text": [
            "False\n",
            "-1\n"
          ]
        }
      ]
    },
    {
      "cell_type": "code",
      "source": [
        "#nested if statements\n",
        "#bus tickets\n",
        "age=int(input(\"ENTER AGE\"))\n",
        "if age>12 and age<=18:\n",
        "  if age<15:\n",
        "    print(\"Quarter ticket implies\")\n",
        "  elif age==15:\n",
        "    print(\"quarter ticket+ discount\")\n",
        "  else:\n",
        "    print(\"Half ticket\")\n",
        "elif age>=19 and age<=60:\n",
        "  print(\"full ticket\")\n",
        "elif age>60:\n",
        "  print(\"Full ticket + discount\")\n",
        "else:\n",
        "  print(\"no ticket\")\n"
      ],
      "metadata": {
        "colab": {
          "base_uri": "https://localhost:8080/"
        },
        "id": "i0_w7bJ0W5IL",
        "outputId": "2792f2b9-ab54-4577-c10b-6a93b09072a1"
      },
      "execution_count": 3,
      "outputs": [
        {
          "output_type": "stream",
          "name": "stdout",
          "text": [
            "ENTER AGE56\n",
            "full ticket\n"
          ]
        }
      ]
    },
    {
      "cell_type": "code",
      "source": [
        "#for loop\n",
        "number=[6,5,3,8,4,2,5,4,11]\n",
        "sum=0\n",
        "for val in number:\n",
        "  sum=sum+val\n",
        "print(\"the sum is\",sum)\n",
        "print(\"\\n\")\n",
        "for i in range(1,11):\n",
        "  print(i)\n",
        "  print(\"\\n\")\n",
        "for i in range(1,11,2):\n",
        " print(i)\n",
        "print(\"\\n\")\n",
        "x=[2,3,4,5,6,7,8]\n",
        "y=[]\n",
        "for a in x:\n",
        "  if a%2==0:\n",
        "    y.append(a)\n",
        "print(\"\\n\")\n",
        "print(y)"
      ],
      "metadata": {
        "colab": {
          "base_uri": "https://localhost:8080/"
        },
        "id": "Aw2ATDxDXVjZ",
        "outputId": "14cb91f0-6247-4d3c-c687-3f4aeb4ec630"
      },
      "execution_count": 5,
      "outputs": [
        {
          "output_type": "stream",
          "name": "stdout",
          "text": [
            "the sum is 48\n",
            "\n",
            "\n",
            "1\n",
            "\n",
            "\n",
            "2\n",
            "\n",
            "\n",
            "3\n",
            "\n",
            "\n",
            "4\n",
            "\n",
            "\n",
            "5\n",
            "\n",
            "\n",
            "6\n",
            "\n",
            "\n",
            "7\n",
            "\n",
            "\n",
            "8\n",
            "\n",
            "\n",
            "9\n",
            "\n",
            "\n",
            "10\n",
            "\n",
            "\n",
            "1\n",
            "3\n",
            "5\n",
            "7\n",
            "9\n",
            "\n",
            "\n",
            "\n",
            "\n",
            "[2, 4, 6, 8]\n"
          ]
        }
      ]
    },
    {
      "cell_type": "code",
      "source": [
        "#using statements in for loop\n",
        "digits=[0,1,5]\n",
        "for i in digits:\n",
        "  print(i)\n",
        "else:\n",
        "  print(\"no items left\")\n",
        "for l in \"python\":\n",
        "  print(\"Current letter:\",l)\n",
        "  "
      ],
      "metadata": {
        "colab": {
          "base_uri": "https://localhost:8080/"
        },
        "id": "pc7JjIsXZbdf",
        "outputId": "cc3aa202-e511-480d-bcd3-99f9cd26354e"
      },
      "execution_count": 10,
      "outputs": [
        {
          "output_type": "stream",
          "name": "stdout",
          "text": [
            "0\n",
            "1\n",
            "5\n",
            "no items left\n",
            "Current letter: p\n",
            "Current letter: y\n",
            "Current letter: t\n",
            "Current letter: h\n",
            "Current letter: o\n",
            "Current letter: n\n"
          ]
        }
      ]
    },
    {
      "cell_type": "code",
      "source": [
        "#iterating by sequence indexing\n",
        "fruit=['apple','banana','grapes']\n",
        "for index in range(len(fruit)):\n",
        "  print('current fruit:',fruit[index])"
      ],
      "metadata": {
        "colab": {
          "base_uri": "https://localhost:8080/"
        },
        "id": "1oid3i7GaC2l",
        "outputId": "9e378307-9c81-4857-a63a-1f120efaf932"
      },
      "execution_count": 11,
      "outputs": [
        {
          "output_type": "stream",
          "name": "stdout",
          "text": [
            "current fruit: apple\n",
            "current fruit: banana\n",
            "current fruit: grapes\n"
          ]
        }
      ]
    },
    {
      "cell_type": "code",
      "source": [
        "#while\n",
        "count=0\n",
        "while(count<11):\n",
        "  print('the count is',count)\n",
        "  count=count+1\n",
        "count=0\n",
        "while(count<5):\n",
        "  print(count,\"is less than 5\")\n",
        "  count=count+1\n",
        "else:\n",
        "   print(count,\"is not less than 5\")"
      ],
      "metadata": {
        "colab": {
          "base_uri": "https://localhost:8080/"
        },
        "id": "PC9ppg29bCpt",
        "outputId": "0900bfe5-c6e4-4bd1-e967-37501cb40343"
      },
      "execution_count": 15,
      "outputs": [
        {
          "output_type": "stream",
          "name": "stdout",
          "text": [
            "the count is 0\n",
            "the count is 1\n",
            "the count is 2\n",
            "the count is 3\n",
            "the count is 4\n",
            "the count is 5\n",
            "the count is 6\n",
            "the count is 7\n",
            "the count is 8\n",
            "the count is 9\n",
            "the count is 10\n",
            "0 is less than 5\n",
            "1 is less than 5\n",
            "2 is less than 5\n",
            "3 is less than 5\n",
            "4 is less than 5\n",
            "5 is not less than 5\n"
          ]
        }
      ]
    },
    {
      "cell_type": "code",
      "source": [
        "#nested loops\n",
        "X=[[12,7,3],\n",
        "   [4,5,6],\n",
        "   [7,8,9]]\n",
        "  \n",
        "Y=[[5,8,1],[1,1,0],[5,3,7]]\n",
        "res=[[0,0,0],[0,0,0],[0,0,0]]\n",
        "for i in range(len(X)):\n",
        "  for j in range(len(X[0])):\n",
        "    res[i][j]=X[i][j]+Y[i][j]\n",
        "for r in res:\n",
        "  print(r)"
      ],
      "metadata": {
        "colab": {
          "base_uri": "https://localhost:8080/"
        },
        "id": "XjiqIj_7bnta",
        "outputId": "311f8077-848b-429e-fa9c-4bff03cbb075"
      },
      "execution_count": 17,
      "outputs": [
        {
          "output_type": "stream",
          "name": "stdout",
          "text": [
            "[17, 15, 4]\n",
            "[5, 6, 6]\n",
            "[12, 11, 16]\n"
          ]
        }
      ]
    },
    {
      "cell_type": "code",
      "source": [
        "num=int(input(\"ENTER TILL WHICH TABLE YOU WANT TO PRINT\"))\n",
        "i=1\n",
        "while(i<=num):\n",
        "  print(f\"TABLE {i}\")#rawstring\n",
        "  j=1\n",
        "  while(j<=10):\n",
        "    print(f\"{i}*{j}={i*j}\")\n",
        "    j=j+1\n",
        "  print(\"________________________\")\n",
        "  i=i+1"
      ],
      "metadata": {
        "colab": {
          "base_uri": "https://localhost:8080/"
        },
        "id": "g2g4yvzmm0b8",
        "outputId": "d8b9fb56-c7c9-498e-ac95-3dc574c35b60"
      },
      "execution_count": 19,
      "outputs": [
        {
          "output_type": "stream",
          "name": "stdout",
          "text": [
            "ENTER TILL WHICH TABLE YOU WANT TO PRINT3\n",
            "TABLE 1\n",
            "1*1=1\n",
            "1*2=2\n",
            "1*3=3\n",
            "1*4=4\n",
            "1*5=5\n",
            "1*6=6\n",
            "1*7=7\n",
            "1*8=8\n",
            "1*9=9\n",
            "1*10=10\n",
            "________________________\n",
            "TABLE 2\n",
            "2*1=2\n",
            "2*2=4\n",
            "2*3=6\n",
            "2*4=8\n",
            "2*5=10\n",
            "2*6=12\n",
            "2*7=14\n",
            "2*8=16\n",
            "2*9=18\n",
            "2*10=20\n",
            "________________________\n",
            "TABLE 3\n",
            "3*1=3\n",
            "3*2=6\n",
            "3*3=9\n",
            "3*4=12\n",
            "3*5=15\n",
            "3*6=18\n",
            "3*7=21\n",
            "3*8=24\n",
            "3*9=27\n",
            "3*10=30\n",
            "________________________\n"
          ]
        }
      ]
    },
    {
      "cell_type": "code",
      "source": [
        "#control statements\n",
        "#break\n",
        "for l in 'Python':\n",
        "  if l == 'h':\n",
        "    break\n",
        "  print(\"Current letter:\",l)\n",
        "int1=10\n",
        "while(int1>0):\n",
        "  print(\"current value:\",int1)\n",
        "  int1=int1-1\n",
        "  if int1==5:\n",
        "    break"
      ],
      "metadata": {
        "colab": {
          "base_uri": "https://localhost:8080/"
        },
        "id": "jZ_dWDQUnlR2",
        "outputId": "a17b1f91-969a-4958-a3cf-f19c93aea6be"
      },
      "execution_count": 20,
      "outputs": [
        {
          "output_type": "stream",
          "name": "stdout",
          "text": [
            "Current letter: P\n",
            "Current letter: y\n",
            "Current letter: t\n",
            "current value: 10\n",
            "current value: 9\n",
            "current value: 8\n",
            "current value: 7\n",
            "current value: 6\n"
          ]
        }
      ]
    },
    {
      "cell_type": "code",
      "source": [
        "#continue\n",
        "for l in 'Python':\n",
        "  if l == 'h':\n",
        "    continue\n",
        "  print(\"Current letter:\",l)\n",
        "int1=10\n",
        "while(int1>0):\n",
        "  print(\"current value:\",int1)\n",
        "  int1=int1-1\n",
        "  if int1==5:\n",
        "    continue"
      ],
      "metadata": {
        "colab": {
          "base_uri": "https://localhost:8080/"
        },
        "id": "HGZvlCadnr6M",
        "outputId": "23b0f7c5-2f76-49fa-a9d7-6b310000d147"
      },
      "execution_count": 21,
      "outputs": [
        {
          "output_type": "stream",
          "name": "stdout",
          "text": [
            "Current letter: P\n",
            "Current letter: y\n",
            "Current letter: t\n",
            "Current letter: o\n",
            "Current letter: n\n",
            "current value: 10\n",
            "current value: 9\n",
            "current value: 8\n",
            "current value: 7\n",
            "current value: 6\n",
            "current value: 5\n",
            "current value: 4\n",
            "current value: 3\n",
            "current value: 2\n",
            "current value: 1\n"
          ]
        }
      ]
    },
    {
      "cell_type": "code",
      "source": [
        "#pass\n",
        "for l in 'Python':\n",
        "  if l == 'h':\n",
        "    pass\n",
        "  print(\"Current letter:\",l)\n",
        "int1=10\n",
        "while(int1>0):\n",
        "  print(\"current value:\",int1)\n",
        "  int1=int1-1\n",
        "  if int1==5:\n",
        "    print(\"this is pass block\")\n",
        "    print(\"this is pass block\")"
      ],
      "metadata": {
        "colab": {
          "base_uri": "https://localhost:8080/"
        },
        "id": "19aVZlWGoB9Q",
        "outputId": "1e3c0420-68d5-4e22-b68d-41f0d4f7ee70"
      },
      "execution_count": 22,
      "outputs": [
        {
          "output_type": "stream",
          "name": "stdout",
          "text": [
            "Current letter: P\n",
            "Current letter: y\n",
            "Current letter: t\n",
            "Current letter: h\n",
            "Current letter: o\n",
            "Current letter: n\n",
            "current value: 10\n",
            "current value: 9\n",
            "current value: 8\n",
            "current value: 7\n",
            "current value: 6\n",
            "this is pass block\n",
            "this is pass block\n",
            "current value: 5\n",
            "current value: 4\n",
            "current value: 3\n",
            "current value: 2\n",
            "current value: 1\n"
          ]
        }
      ]
    },
    {
      "cell_type": "code",
      "source": [
        "#user defined funtions\n",
        "def greet(name):\n",
        "  '''this function greets a person'''\n",
        "  print(\"Hello,\\t\"+name+\"\\tGood Morning\")\n",
        "greet(\"SRK\")"
      ],
      "metadata": {
        "colab": {
          "base_uri": "https://localhost:8080/"
        },
        "id": "GhtXjBR0oHwm",
        "outputId": "0195ab85-da2a-4c27-a1b3-ae8549ca7c60"
      },
      "execution_count": 25,
      "outputs": [
        {
          "output_type": "stream",
          "name": "stdout",
          "text": [
            "Hello,\tSRK\tGood Morning\n"
          ]
        }
      ]
    },
    {
      "cell_type": "code",
      "source": [
        "#default\n",
        "def A(a,b=1,c=2):\n",
        "  return a+b+c\n",
        "print(A(3))\n",
        "print(A(4,4,4))\n",
        "print(A(2,2))"
      ],
      "metadata": {
        "colab": {
          "base_uri": "https://localhost:8080/"
        },
        "id": "R1_rQ5ntodHd",
        "outputId": "8823ea8a-7ab9-4b5d-824e-e1ea8604e856"
      },
      "execution_count": 27,
      "outputs": [
        {
          "output_type": "stream",
          "name": "stdout",
          "text": [
            "6\n",
            "12\n",
            "6\n"
          ]
        }
      ]
    },
    {
      "cell_type": "code",
      "source": [
        "#keyword\n",
        "def A(a,b=1,c=2):\n",
        "  return a+b+c\n",
        "print(A(a=2,b=3))\n",
        "print(A(c=3,b=2,a=1))"
      ],
      "metadata": {
        "colab": {
          "base_uri": "https://localhost:8080/"
        },
        "id": "W47jRcfyopLC",
        "outputId": "e2063c76-42e0-451e-87e5-e4df6bc5c00c"
      },
      "execution_count": 28,
      "outputs": [
        {
          "output_type": "stream",
          "name": "stdout",
          "text": [
            "7\n",
            "6\n"
          ]
        }
      ]
    },
    {
      "cell_type": "code",
      "source": [
        "#positional\n",
        "def add(a,b,c):\n",
        "  return a+b+c\n",
        "print(add(10,20,30))\n",
        "print(add(10,b=20,c=30))"
      ],
      "metadata": {
        "colab": {
          "base_uri": "https://localhost:8080/"
        },
        "id": "uVmnPZS6oyPM",
        "outputId": "956dd2ee-22b0-4b53-e67a-109558a7c256"
      },
      "execution_count": 29,
      "outputs": [
        {
          "output_type": "stream",
          "name": "stdout",
          "text": [
            "60\n",
            "60\n"
          ]
        }
      ]
    },
    {
      "cell_type": "code",
      "source": [
        "#arbitrary keyword\n",
        "def key_arg(**kwargs):\n",
        "  return kwargs\n",
        "my_dict=key_arg(Apples=10,Oranges=20,Grapes=30)\n",
        "print(my_dict['Apples'])\n",
        "print(my_dict)"
      ],
      "metadata": {
        "colab": {
          "base_uri": "https://localhost:8080/"
        },
        "id": "yzZzLp9co3pt",
        "outputId": "e0db9231-3663-4c6e-bbb6-4ee1ef7f1817"
      },
      "execution_count": 30,
      "outputs": [
        {
          "output_type": "stream",
          "name": "stdout",
          "text": [
            "10\n",
            "{'Apples': 10, 'Oranges': 20, 'Grapes': 30}\n"
          ]
        }
      ]
    },
    {
      "cell_type": "code",
      "source": [
        "#higher order functions\n",
        "def shout(text):\n",
        "  return text.upper()\n",
        "def whisper(text):\n",
        "  return text.lower()\n",
        "def explain(func):\n",
        "  greet=func(\"Hi, i am higher order function\")\n",
        "  print(greet)\n",
        "explain(shout)\n",
        "explain(whisper)"
      ],
      "metadata": {
        "colab": {
          "base_uri": "https://localhost:8080/"
        },
        "id": "2gTU8q-_uE3x",
        "outputId": "0c715fdf-6319-4414-a55c-24d89b028f20"
      },
      "execution_count": 35,
      "outputs": [
        {
          "output_type": "stream",
          "name": "stdout",
          "text": [
            "HI, I AM HIGHER ORDER FUNCTION\n",
            "hi, i am higher order function\n"
          ]
        }
      ]
    },
    {
      "cell_type": "code",
      "source": [
        "#lambda\n",
        "def incr(x):\n",
        "  x=x+1\n",
        "  return x\n",
        "print(incr(4))\n",
        "print((lambda x:x+1)(4))\n",
        "res=lambda x:x+1\n",
        "print(res(4))"
      ],
      "metadata": {
        "colab": {
          "base_uri": "https://localhost:8080/"
        },
        "id": "W9yVAJ_Sugkn",
        "outputId": "c793961f-27a7-4892-90bf-95c29bc4dd9b"
      },
      "execution_count": 36,
      "outputs": [
        {
          "output_type": "stream",
          "name": "stdout",
          "text": [
            "5\n",
            "5\n",
            "5\n"
          ]
        }
      ]
    },
    {
      "cell_type": "code",
      "source": [
        "print((lambda x,y:x**y)(2,2))\n",
        "print((lambda x,y:x+y)(2,3))\n",
        "res=lambda x,y:x+y\n",
        "print(res(2,3))"
      ],
      "metadata": {
        "colab": {
          "base_uri": "https://localhost:8080/"
        },
        "id": "4w2Kzot-unTL",
        "outputId": "b6a7d5fb-0228-4fab-d887-dafa872661b3"
      },
      "execution_count": 37,
      "outputs": [
        {
          "output_type": "stream",
          "name": "stdout",
          "text": [
            "4\n",
            "5\n",
            "5\n"
          ]
        }
      ]
    },
    {
      "cell_type": "code",
      "source": [
        "li=[1,2,3,4,5]\n",
        "#res=lambda x:x+2\n",
        "#print(res(li))\n",
        "def inc(num):\n",
        "  return num+2\n",
        "res_list=list(map(inc,li))\n",
        "print(res_list)\n",
        "res_list1=list(map(lambda x:x+2,li))\n",
        "print(res_list)\n",
        "print(list(map(lambda x:x+2,li)))"
      ],
      "metadata": {
        "colab": {
          "base_uri": "https://localhost:8080/"
        },
        "id": "jDQNC9Tyutk9",
        "outputId": "378c24f7-2e89-4618-9fb8-d0405a565614"
      },
      "execution_count": 38,
      "outputs": [
        {
          "output_type": "stream",
          "name": "stdout",
          "text": [
            "[3, 4, 5, 6, 7]\n",
            "[3, 4, 5, 6, 7]\n",
            "[3, 4, 5, 6, 7]\n"
          ]
        }
      ]
    },
    {
      "cell_type": "code",
      "source": [
        "def eor(num):\n",
        "  if num%2==0:\n",
        "    return \"the number {} is even\".format(num)\n",
        "  else:\n",
        "    return \"the number {} is odd\".format(num)\n",
        "eor(20)"
      ],
      "metadata": {
        "colab": {
          "base_uri": "https://localhost:8080/",
          "height": 35
        },
        "id": "ssx1UJubu0ku",
        "outputId": "9114d55d-8916-4407-b4cc-109fd28d1ba7"
      },
      "execution_count": 40,
      "outputs": [
        {
          "output_type": "execute_result",
          "data": {
            "text/plain": [
              "'the number 20 is even'"
            ],
            "application/vnd.google.colaboratory.intrinsic+json": {
              "type": "string"
            }
          },
          "metadata": {},
          "execution_count": 40
        }
      ]
    },
    {
      "cell_type": "code",
      "source": [
        "l=[1,2,3,4,5,6,7,8,9,10]\n",
        "list(map(eor,l))"
      ],
      "metadata": {
        "colab": {
          "base_uri": "https://localhost:8080/"
        },
        "id": "N6h0-faxvGO6",
        "outputId": "ea76c79c-7d1a-4a69-e3e5-a5ce6ab8c1ff"
      },
      "execution_count": 41,
      "outputs": [
        {
          "output_type": "execute_result",
          "data": {
            "text/plain": [
              "['the number 1 is odd',\n",
              " 'the number 2 is even',\n",
              " 'the number 3 is odd',\n",
              " 'the number 4 is even',\n",
              " 'the number 5 is odd',\n",
              " 'the number 6 is even',\n",
              " 'the number 7 is odd',\n",
              " 'the number 8 is even',\n",
              " 'the number 9 is odd',\n",
              " 'the number 10 is even']"
            ]
          },
          "metadata": {},
          "execution_count": 41
        }
      ]
    },
    {
      "cell_type": "code",
      "source": [
        "li=['apple','banana','grapes']\n",
        "r=list(map(lambda x:x.capitalize(),li))\n",
        "print(r)"
      ],
      "metadata": {
        "colab": {
          "base_uri": "https://localhost:8080/"
        },
        "id": "T1yD04PsvORc",
        "outputId": "627b3a88-6704-4292-d57c-199dac2c98ba"
      },
      "execution_count": 42,
      "outputs": [
        {
          "output_type": "stream",
          "name": "stdout",
          "text": [
            "['Apple', 'Banana', 'Grapes']\n"
          ]
        }
      ]
    },
    {
      "cell_type": "code",
      "source": [
        "#filter\n",
        "def odd_num(n):\n",
        "  if n%2!=0:\n",
        "    return n\n",
        "my_list=[9,26,35,-2,50]\n",
        "print(list(filter(odd_num,my_list)))\n",
        "my_list=[18,94,33,16,99,22,56,107,34]\n",
        "temp=list(filter(lambda x:x%2==0,my_list))\n",
        "print(temp)"
      ],
      "metadata": {
        "colab": {
          "base_uri": "https://localhost:8080/"
        },
        "id": "dv06keKqvVWr",
        "outputId": "c07087b1-a3f7-4d16-ad42-f3afd2a9e16c"
      },
      "execution_count": 43,
      "outputs": [
        {
          "output_type": "stream",
          "name": "stdout",
          "text": [
            "[9, 35]\n",
            "[18, 94, 16, 22, 56, 34]\n"
          ]
        }
      ]
    },
    {
      "cell_type": "code",
      "source": [
        "#math module\n",
        "import math as m\n",
        "print(m.pi)\n",
        "print(m.e)\n",
        "print(m.sqrt(4))\n",
        "print(m.factorial(5))\n",
        "print(m.pow(2,2))\n",
        "print(m.floor(1.4))\n",
        "print(m.tan(5))\n",
        "print(m.log(2))"
      ],
      "metadata": {
        "colab": {
          "base_uri": "https://localhost:8080/"
        },
        "id": "rgg1wcdZvlfL",
        "outputId": "e6230ed9-6ba9-4d05-c7ea-5a2d8063c9ff"
      },
      "execution_count": 44,
      "outputs": [
        {
          "output_type": "stream",
          "name": "stdout",
          "text": [
            "3.141592653589793\n",
            "2.718281828459045\n",
            "2.0\n",
            "120\n",
            "4.0\n",
            "1\n",
            "-3.380515006246586\n",
            "0.6931471805599453\n"
          ]
        }
      ]
    },
    {
      "cell_type": "code",
      "source": [
        "#sys module\n",
        "import sys\n",
        "print(sys.path)\n",
        "print(sys.version)\n",
        "print(sys.maxsize)"
      ],
      "metadata": {
        "colab": {
          "base_uri": "https://localhost:8080/"
        },
        "id": "2CaGFG-vvnmX",
        "outputId": "d8ec4327-56c1-46ac-d765-4def9ca43ca6"
      },
      "execution_count": 45,
      "outputs": [
        {
          "output_type": "stream",
          "name": "stdout",
          "text": [
            "['', '/content', '/env/python', '/usr/lib/python37.zip', '/usr/lib/python3.7', '/usr/lib/python3.7/lib-dynload', '/usr/local/lib/python3.7/dist-packages', '/usr/lib/python3/dist-packages', '/usr/local/lib/python3.7/dist-packages/IPython/extensions', '/root/.ipython']\n",
            "3.7.13 (default, Apr 24 2022, 01:04:09) \n",
            "[GCC 7.5.0]\n",
            "9223372036854775807\n"
          ]
        }
      ]
    },
    {
      "cell_type": "code",
      "source": [
        "#statistics module\n",
        "import statistics as st\n",
        "print(st.mean([21,29,34]))\n",
        "print(st.median([1,2,3,4,5]))\n",
        "print(st.mode([1,2,3,1,1]))"
      ],
      "metadata": {
        "colab": {
          "base_uri": "https://localhost:8080/"
        },
        "id": "w6lbiptXvwra",
        "outputId": "7ed01a89-5574-48a0-e965-472aae7e7b1d"
      },
      "execution_count": 46,
      "outputs": [
        {
          "output_type": "stream",
          "name": "stdout",
          "text": [
            "28\n",
            "3\n",
            "1\n"
          ]
        }
      ]
    },
    {
      "cell_type": "code",
      "source": [
        "#time module\n",
        "import time\n",
        "print(time.time())\n",
        "print(time.localtime())\n",
        "print(time.asctime())\n",
        "print(time.ctime())\n",
        "print(time.sleep(1.5))"
      ],
      "metadata": {
        "colab": {
          "base_uri": "https://localhost:8080/"
        },
        "id": "Qjm9R2unv5cQ",
        "outputId": "f1152d75-b08c-4dac-fe9a-defa548d9675"
      },
      "execution_count": 47,
      "outputs": [
        {
          "output_type": "stream",
          "name": "stdout",
          "text": [
            "1655219082.1889336\n",
            "time.struct_time(tm_year=2022, tm_mon=6, tm_mday=14, tm_hour=15, tm_min=4, tm_sec=42, tm_wday=1, tm_yday=165, tm_isdst=0)\n",
            "Tue Jun 14 15:04:42 2022\n",
            "Tue Jun 14 15:04:42 2022\n",
            "None\n"
          ]
        }
      ]
    },
    {
      "cell_type": "code",
      "source": [
        "#random module\n",
        "import random\n",
        "print(random.randrange(1,50))\n",
        "print(random.randint(1,100))\n",
        "print(random.random())"
      ],
      "metadata": {
        "colab": {
          "base_uri": "https://localhost:8080/"
        },
        "id": "1K6hb_n3wBBP",
        "outputId": "fa842c14-dceb-4902-9a7b-b02186ea88aa"
      },
      "execution_count": 48,
      "outputs": [
        {
          "output_type": "stream",
          "name": "stdout",
          "text": [
            "46\n",
            "51\n",
            "0.42170163917534076\n"
          ]
        }
      ]
    },
    {
      "cell_type": "code",
      "source": [
        "import random\n",
        "g_num=random.randint(0,5)\n",
        "g1_num=int(input(\"PREDICT A NUMBER\"))\n",
        "if g1_num==g_num:\n",
        "  print(\"you won\")\n",
        "else:\n",
        "    print(\"you lost\")"
      ],
      "metadata": {
        "colab": {
          "base_uri": "https://localhost:8080/"
        },
        "id": "qPM4trG1wI0z",
        "outputId": "66aedd35-cab3-4bc2-9583-1461461c3001"
      },
      "execution_count": 50,
      "outputs": [
        {
          "output_type": "stream",
          "name": "stdout",
          "text": [
            "PREDICT A NUMBER4\n",
            "you lost\n"
          ]
        }
      ]
    }
  ]
}