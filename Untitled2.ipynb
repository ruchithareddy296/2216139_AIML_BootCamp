{
  "nbformat": 4,
  "nbformat_minor": 0,
  "metadata": {
    "colab": {
      "name": "Untitled2.ipynb",
      "provenance": [],
      "authorship_tag": "ABX9TyP3iwv26n1zveXEBdl3cVf2",
      "include_colab_link": true
    },
    "kernelspec": {
      "name": "python3",
      "display_name": "Python 3"
    },
    "language_info": {
      "name": "python"
    }
  },
  "cells": [
    {
      "cell_type": "markdown",
      "metadata": {
        "id": "view-in-github",
        "colab_type": "text"
      },
      "source": [
        "<a href=\"https://colab.research.google.com/github/ruchithareddy296/2216139_AIML_BootCamp/blob/main/Untitled2.ipynb\" target=\"_parent\"><img src=\"https://colab.research.google.com/assets/colab-badge.svg\" alt=\"Open In Colab\"/></a>"
      ]
    },
    {
      "cell_type": "code",
      "execution_count": 1,
      "metadata": {
        "colab": {
          "base_uri": "https://localhost:8080/"
        },
        "id": "HcqrT20BAgA8",
        "outputId": "7c43838b-d8e1-4b42-bd8a-20a9c4e201b9"
      },
      "outputs": [
        {
          "output_type": "stream",
          "name": "stdout",
          "text": [
            "Addtion of 2 numbers is 10\n",
            "Sub of 2 numbers is 5\n"
          ]
        }
      ],
      "source": [
        "#class & object\n",
        "class CO:\n",
        "  def subn(self,a,b):\n",
        "    return a-b\n",
        "  def addn(self,a,b):\n",
        "    return a+b\n",
        "obj=CO()\n",
        "print(\"Addtion of 2 numbers is\",obj.addn(5,5))\n",
        "print(\"Sub of 2 numbers is\",obj.subn(10,5))"
      ]
    },
    {
      "cell_type": "code",
      "source": [
        "class C1:\n",
        "  '''description'''\n",
        "  class_var=\"demonstrates class creation\"\n",
        "  def cm(self):\n",
        "    return\"method invocation\"\n",
        "  def __str__(self):\n",
        "    return \"returns string to object\"\n",
        "obj1=C1()\n",
        "print(obj1.class_var)\n",
        "print(obj1.cm())\n",
        "print(obj1)"
      ],
      "metadata": {
        "colab": {
          "base_uri": "https://localhost:8080/"
        },
        "id": "egjoBLeFAuIH",
        "outputId": "16b885ff-e8f3-40d5-bdff-593e005efb42"
      },
      "execution_count": 2,
      "outputs": [
        {
          "output_type": "stream",
          "name": "stdout",
          "text": [
            "demonstrates class creation\n",
            "method invocation\n",
            "returns string to object\n"
          ]
        }
      ]
    },
    {
      "cell_type": "code",
      "source": [
        "#single\n",
        "class Animal:\n",
        "  def animal_sounds(self):\n",
        "    return \"makes sound\"\n",
        "class Cat(Animal):\n",
        "  def cat_sound(self):\n",
        "    return self.animal_sounds()+\"MEOW\"\n",
        "  def __str__(self):\n",
        "    return \"CAT\"\n",
        "\n",
        "catobj=Cat()\n",
        "print(catobj,catobj.cat_sound())"
      ],
      "metadata": {
        "colab": {
          "base_uri": "https://localhost:8080/"
        },
        "id": "hoAK_WSkAzj9",
        "outputId": "61ab1706-c98e-4389-bbbf-6e6aae3e5866"
      },
      "execution_count": 5,
      "outputs": [
        {
          "output_type": "stream",
          "name": "stdout",
          "text": [
            "CAT makes soundMEOW\n"
          ]
        }
      ]
    },
    {
      "cell_type": "code",
      "source": [
        "#hierarchial\n",
        "class Animal:\n",
        "  def animal_sounds(self):\n",
        "    return \"makes sound\"\n",
        "class Cat(Animal):\n",
        "  def cat_sound(self):\n",
        "    return self.animal_sounds()+\" MEOW\"\n",
        "  def __str__(self):\n",
        "    return \"CAT\"\n",
        "  \n",
        "class Dog(Animal):\n",
        "  def dog_sound(self):\n",
        "    return self.animal_sounds()+\" BOW\"\n",
        "  def __str__(self):\n",
        "    return \"DOG\"\n",
        "catobj=Cat()\n",
        "print(catobj,catobj.cat_sound())\n",
        "dogobj=Dog()\n",
        "print(dogobj,dogobj.dog_sound())"
      ],
      "metadata": {
        "colab": {
          "base_uri": "https://localhost:8080/"
        },
        "id": "a5JukS8VBHM1",
        "outputId": "8af31f6f-ad46-4687-c7d3-0c89069cc690"
      },
      "execution_count": 6,
      "outputs": [
        {
          "output_type": "stream",
          "name": "stdout",
          "text": [
            "CAT makes sound MEOW\n",
            "DOG makes sound BOW\n"
          ]
        }
      ]
    },
    {
      "cell_type": "code",
      "source": [
        "#multilevel inheritance\n",
        "class Animal:\n",
        "  def animal_sounds(self):\n",
        "    return \"makes sound\"\n",
        "class Cat(Animal):\n",
        "  def cat_sound(self):\n",
        "    return self.animal_sounds()+\" MEOW\"\n",
        "class CatColor(Cat):\n",
        "  def __str__(self):\n",
        "    return \"CAT\"\n",
        "  def color(self):\n",
        "    return \"color is black\"\n",
        "catcolor=CatColor()\n",
        "print(catcolor,catcolor.cat_sound())\n",
        "print(catcolor,catcolor.color())\n"
      ],
      "metadata": {
        "colab": {
          "base_uri": "https://localhost:8080/"
        },
        "id": "_pprqihZBMxC",
        "outputId": "93708634-164f-4602-d2f5-efb5d91c32d0"
      },
      "execution_count": 7,
      "outputs": [
        {
          "output_type": "stream",
          "name": "stdout",
          "text": [
            "CAT makes sound MEOW\n",
            "CAT color is black\n"
          ]
        }
      ]
    },
    {
      "cell_type": "code",
      "source": [
        "#exception handling\n",
        "#2003\n",
        "class INVALIDSTUDENTID(Exception):\n",
        "  pass\n",
        "stid=input(\"enter student id\")\n",
        "try:\n",
        "  if stid[:4]!=\"2003\":\n",
        "    raise INVALIDSTUDENTID\n",
        "except INVALIDSTUDENTID:\n",
        "  print(\"error raised due to invalid details\")\n",
        "print(\"details verified\")"
      ],
      "metadata": {
        "colab": {
          "base_uri": "https://localhost:8080/"
        },
        "id": "zJW5wGqLBQQp",
        "outputId": "2ab38c82-8e0c-435d-9aed-3c70605c55ad"
      },
      "execution_count": 8,
      "outputs": [
        {
          "output_type": "stream",
          "name": "stdout",
          "text": [
            "enter student id3\n",
            "error raised due to invalid details\n",
            "details verified\n"
          ]
        }
      ]
    },
    {
      "cell_type": "code",
      "source": [
        "#name\n",
        "try:\n",
        "  print(x)\n",
        "except NameError as ne:\n",
        "  print(\"exception occurred\",ne)\n",
        "print(\"excecuted\")"
      ],
      "metadata": {
        "colab": {
          "base_uri": "https://localhost:8080/"
        },
        "id": "m311bQTMBfnP",
        "outputId": "69a31c3b-ec50-41f3-cb69-5bc7e44dfa6e"
      },
      "execution_count": 9,
      "outputs": [
        {
          "output_type": "stream",
          "name": "stdout",
          "text": [
            "exception occurred name 'x' is not defined\n",
            "excecuted\n"
          ]
        }
      ]
    },
    {
      "cell_type": "code",
      "source": [
        "class INVALIDSTUDENTID(Exception):\n",
        "  def __str__(self):\n",
        "    return \"ERROR RAISED\"\n",
        "stid=input(\"enter student id\")\n",
        "try:\n",
        "  if stid[:4]!=\"2003\":\n",
        "    raise INVALIDSTUDENTID \n",
        "except INVALIDSTUDENTID as invalid:\n",
        "  print(invalid)\n",
        "print(\"details verified\")"
      ],
      "metadata": {
        "colab": {
          "base_uri": "https://localhost:8080/"
        },
        "id": "tVvFcvMIBpsU",
        "outputId": "81ab01a4-9869-4c9c-d4b1-7d9ce340e712"
      },
      "execution_count": 12,
      "outputs": [
        {
          "output_type": "stream",
          "name": "stdout",
          "text": [
            "enter student id2003\n",
            "details verified\n"
          ]
        }
      ]
    },
    {
      "cell_type": "code",
      "source": [
        "#implement exception handling for age of voter\n",
        "f=open(\"sample.txt\",\"x\")\n",
        "f=open(\"sample.txt\",\"w\")\n",
        "f.write(\"WELCOME\")\n",
        "f.close()\n",
        "f=open(\"sample.txt\",\"r\")\n",
        "print(f.read())\n",
        "f.close()\n"
      ],
      "metadata": {
        "colab": {
          "base_uri": "https://localhost:8080/"
        },
        "id": "BsYdt8rCB1e8",
        "outputId": "066e38be-96f7-46af-e90e-ace4c547e4dc"
      },
      "execution_count": 13,
      "outputs": [
        {
          "output_type": "stream",
          "name": "stdout",
          "text": [
            "WELCOME\n"
          ]
        }
      ]
    },
    {
      "cell_type": "code",
      "source": [
        "\n",
        "f=open(\"sample.txt\",\"r\")\n",
        "print(f.read(3))#reads until 3 shars\n",
        "print(f.tell())#tells where cursor is\n",
        "print(f.seek(2))#moves cursor to desired position\n",
        "print(f.seek(0))\n",
        "print(f.readline())#reads first line of file\n",
        "print(f.readlines())#displays all lines\n",
        "f.close()"
      ],
      "metadata": {
        "colab": {
          "base_uri": "https://localhost:8080/"
        },
        "id": "n_G7CwPuB7Dl",
        "outputId": "320bed12-f7a3-4a45-db98-a147c0dcd2bd"
      },
      "execution_count": 17,
      "outputs": [
        {
          "output_type": "stream",
          "name": "stdout",
          "text": [
            "WEL\n",
            "3\n",
            "2\n",
            "0\n",
            "WELCOME\n",
            "[]\n"
          ]
        }
      ]
    },
    {
      "cell_type": "code",
      "source": [
        "#pickling\n",
        "import pickle\n",
        "mylist=['a','b','c','d']\n",
        "with open(\"datafile2.txt\",\"wb\") as f4:\n",
        "  pickle.dump(mylist,f4)\n",
        "#unpickling\n",
        "import pickle\n",
        "pickle_off=open(\"datafile2.txt\",\"rb\")\n",
        "e=pickle.load(pickle_off)\n",
        "print(e)"
      ],
      "metadata": {
        "colab": {
          "base_uri": "https://localhost:8080/"
        },
        "id": "ZBzjB0HPDIHV",
        "outputId": "510840bd-2e9b-44f1-f43d-6bec9d304ba9"
      },
      "execution_count": 21,
      "outputs": [
        {
          "output_type": "stream",
          "name": "stdout",
          "text": [
            "['a', 'b', 'c', 'd']\n"
          ]
        }
      ]
    },
    {
      "cell_type": "code",
      "source": [
        "#regular expressions\n",
        "import re\n",
        "pattern=r\"COOKIE\"\n",
        "sequence=(\"Cookie\")\n",
        "if re.match(pattern,sequence):\n",
        "  print(\"MATCHING\")\n",
        "else:\n",
        "  print(\"NOT A MATCH\")\n"
      ],
      "metadata": {
        "colab": {
          "base_uri": "https://localhost:8080/"
        },
        "id": "5bUzTJH_DKqI",
        "outputId": "64afa6aa-efdd-487b-c501-4300a2326d02"
      },
      "execution_count": 22,
      "outputs": [
        {
          "output_type": "stream",
          "name": "stdout",
          "text": [
            "NOT A MATCH\n"
          ]
        }
      ]
    },
    {
      "cell_type": "code",
      "source": [
        "import re\n",
        "ph_no=input(\"enter mobile number\")\n",
        "print(re.search(r'\\d{10}',ph_no).group())"
      ],
      "metadata": {
        "colab": {
          "base_uri": "https://localhost:8080/"
        },
        "id": "-THEyinaDRXY",
        "outputId": "71d44378-e0cb-47d2-df73-8cc13d9cf23d"
      },
      "execution_count": 23,
      "outputs": [
        {
          "output_type": "stream",
          "name": "stdout",
          "text": [
            "enter mobile number5678543521\n",
            "5678543521\n"
          ]
        }
      ]
    },
    {
      "cell_type": "code",
      "source": [
        "mail=input(\"enter a mail\")\n",
        "str1=r'[A-Za-z0-9._-]+@[A-Za-z0-9.-]+[A-Z|a-z]{2,}'\n",
        "print(re.search(str1,mail).group())\n"
      ],
      "metadata": {
        "colab": {
          "base_uri": "https://localhost:8080/"
        },
        "id": "WvCX-FQzDV44",
        "outputId": "545184b5-e438-4abd-b959-5e84f7afb819"
      },
      "execution_count": 24,
      "outputs": [
        {
          "output_type": "stream",
          "name": "stdout",
          "text": [
            "enter a mailsruchithareddy296@gmail.com\n",
            "sruchithareddy296@gmail.com\n"
          ]
        }
      ]
    }
  ]
}